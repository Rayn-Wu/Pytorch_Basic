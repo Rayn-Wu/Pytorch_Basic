{
 "cells": [
  {
   "cell_type": "code",
   "execution_count": 10,
   "id": "157796dd",
   "metadata": {},
   "outputs": [],
   "source": [
    "import torch\n",
    "from torch import nn"
   ]
  },
  {
   "cell_type": "markdown",
   "id": "e565f46c",
   "metadata": {},
   "source": [
    "## 1、Softmax运算：将输出值变化为值为正且和为1的概率分布。用于离散值预测问题"
   ]
  },
  {
   "attachments": {
    "image.png": {
     "image/png": "[encoded data removed]"
    }
   },
   "cell_type": "markdown",
   "id": "b5731b5f",
   "metadata": {},
   "source": [
    "![image.png](attachment:image.png)"
   ]
  },
  {
   "cell_type": "code",
   "execution_count": 49,
   "id": "a459f7a2",
   "metadata": {},
   "outputs": [
    {
     "name": "stderr",
     "output_type": "stream",
     "text": [
      "C:\\Users\\64679\\anaconda3\\envs\\pytorch\\lib\\site-packages\\ipykernel_launcher.py:4: UserWarning: Implicit dimension choice for softmax has been deprecated. Change the call to include dim=X as an argument.\n",
      "  after removing the cwd from sys.path.\n"
     ]
    },
    {
     "data": {
      "text/plain": [
       "tensor([[0.0420, 0.8438, 0.1142],\n",
       "        [0.0132, 0.2654, 0.7214]])"
      ]
     },
     "execution_count": 49,
     "metadata": {},
     "output_type": "execute_result"
    }
   ],
   "source": [
    "softmax = nn.Softmax()\n",
    "input_tensor = torch.tensor([[-1.0,2.0,0.0],\n",
    "                            [-2.0,1.0,2.0] ])\n",
    "output_tensor = softmax(input_tensor)\n",
    "output_tensor"
   ]
  },
  {
   "cell_type": "markdown",
   "id": "5f6520f6",
   "metadata": {},
   "source": [
    "## 2、CrossEntropyLoss：交叉熵损失函数，只关心对正确类别的预测概率，因为只要其值足够大就可以确保分类正确"
   ]
  },
  {
   "cell_type": "markdown",
   "id": "818b0fc5",
   "metadata": {},
   "source": [
    "nn.CrossEntropyLoss(logits,label):<br>\n",
    "<tab>logits: [batchsize , num_class]<br>\n",
    "<tab>label: [batchsize] pyotch中会自动做one hot"
   ]
  },
  {
   "cell_type": "code",
   "execution_count": 27,
   "id": "6e789348",
   "metadata": {},
   "outputs": [],
   "source": [
    "criterion_CEL = nn.CrossEntropyLoss()"
   ]
  },
  {
   "cell_type": "code",
   "execution_count": 51,
   "id": "b8110447",
   "metadata": {},
   "outputs": [],
   "source": [
    "# 分类数目为4（0，1，2，3），batchzize为2时，模型logits的输出\n",
    "\n",
    "# logits : 第一张图片模型预测为类别1；第二张图片模型预测为类别2\n",
    "logits = torch.tensor([[-0.1,  0.4,  0.2,  0.1],    \n",
    "                      [-0.2, -0.1, 0.1,  0.5]])\n",
    "\n",
    "# label : 第一张图片模型标签为类别1；第二张图片标签为类别2\n",
    "label = torch.tensor([1,0])"
   ]
  },
  {
   "cell_type": "code",
   "execution_count": 52,
   "id": "4992844b",
   "metadata": {},
   "outputs": [
    {
     "data": {
      "text/plain": [
       "tensor(1.4258)"
      ]
     },
     "execution_count": 52,
     "metadata": {},
     "output_type": "execute_result"
    }
   ],
   "source": [
    "criterion(logits,label)"
   ]
  },
  {
   "cell_type": "code",
   "execution_count": 53,
   "id": "43b883ee",
   "metadata": {},
   "outputs": [
    {
     "name": "stderr",
     "output_type": "stream",
     "text": [
      "C:\\Users\\64679\\anaconda3\\envs\\pytorch\\lib\\site-packages\\ipykernel_launcher.py:4: UserWarning: Implicit dimension choice for log_softmax has been deprecated. Change the call to include dim=X as an argument.\n",
      "  after removing the cwd from sys.path.\n"
     ]
    },
    {
     "data": {
      "text/plain": [
       "tensor([[-1.6525, -1.1525, -1.3525, -1.4525],\n",
       "        [-1.6991, -1.5991, -1.3991, -0.9991]])"
      ]
     },
     "execution_count": 53,
     "metadata": {},
     "output_type": "execute_result"
    }
   ],
   "source": [
    "#cross entropy 具体实现方式\n",
    "# step 1 ： logsoftmax\n",
    "logsoftmax = nn.LogSoftmax()\n",
    "logits_logsoftmax = logsoftmax(logits)\n",
    "logits_logsoftmax"
   ]
  },
  {
   "cell_type": "code",
   "execution_count": 54,
   "id": "ab5b4f04",
   "metadata": {},
   "outputs": [
    {
     "data": {
      "text/plain": [
       "tensor(1.4258)"
      ]
     },
     "execution_count": 54,
     "metadata": {},
     "output_type": "execute_result"
    }
   ],
   "source": [
    "nl = nn.NLLLoss() #把输出与Label对应的值拿出来，去掉负号，再求均值。\n",
    "nl(logits_logsoftmax,label) # (1.1525+1.6991)/2 = 1.4258"
   ]
  },
  {
   "cell_type": "markdown",
   "id": "48be8a45",
   "metadata": {},
   "source": [
    "## 3、判断模型的输出和真实值"
   ]
  },
  {
   "cell_type": "code",
   "execution_count": 69,
   "id": "eeb5b091",
   "metadata": {},
   "outputs": [],
   "source": [
    "logits = torch.tensor([[-0.1,  0.4,  0.2,  0.1],    \n",
    "                      [-0.2, -0.1, 0.1,  0.5]])\n",
    "\n",
    "label = torch.tensor([1,0])"
   ]
  },
  {
   "cell_type": "markdown",
   "id": "3e7e9fb9",
   "metadata": {},
   "source": [
    "判断模型预测只要判断logits中值最大的index，就是预测的类别<br>\n",
    "用argmax函数"
   ]
  },
  {
   "cell_type": "code",
   "execution_count": 70,
   "id": "245992e5",
   "metadata": {},
   "outputs": [
    {
     "data": {
      "text/plain": [
       "tensor([ True, False])"
      ]
     },
     "execution_count": 70,
     "metadata": {},
     "output_type": "execute_result"
    }
   ],
   "source": [
    "logits.argmax (dim=-1) == label"
   ]
  },
  {
   "cell_type": "code",
   "execution_count": 77,
   "id": "fc938647",
   "metadata": {},
   "outputs": [
    {
     "data": {
      "text/plain": [
       "0.5"
      ]
     },
     "execution_count": 77,
     "metadata": {},
     "output_type": "execute_result"
    }
   ],
   "source": [
    "acc = (logits.argmax (dim=-1) == label).float ().mean ().item() #求准确率\n",
    "acc"
   ]
  }
 ],
 "metadata": {
  "kernelspec": {
   "display_name": "Python 3 (ipykernel)",
   "language": "python",
   "name": "python3"
  },
  "language_info": {
   "codemirror_mode": {
    "name": "ipython",
    "version": 3
   },
   "file_extension": ".py",
   "mimetype": "text/x-python",
   "name": "python",
   "nbconvert_exporter": "python",
   "pygments_lexer": "ipython3",
   "version": "3.7.13"
  }
 },
 "nbformat": 4,
 "nbformat_minor": 5
}
